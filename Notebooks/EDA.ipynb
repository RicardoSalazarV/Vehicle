{
 "cells": [
  {
   "cell_type": "markdown",
   "metadata": {},
   "source": []
  },
  {
   "cell_type": "markdown",
   "metadata": {},
   "source": [
    "Proceso general\n",
    "Limpieza de datos:\n",
    "Se manejan valores nulos y se ajustan los tipos de datos.\n",
    "Transformación de datos:\n",
    "Se crean nuevas variables y se simplifican columnas existentes.\n",
    "Eliminación de outliers:\n",
    "Se filtran valores extremos en price.\n",
    "Preparación para modelado:\n",
    "Se convierten variables categóricas y el dataset final queda listo para análisis avanzados.\n"
   ]
  },
  {
   "cell_type": "code",
   "execution_count": null,
   "metadata": {},
   "outputs": [],
   "source": [
    "#Importar librerias necesarias\n",
    "import pandas as pd\n",
    "import numpy as np\n",
    "import matplotlib.pyplot as plt\n",
    "import seaborn as sns\n"
   ]
  },
  {
   "cell_type": "code",
   "execution_count": null,
   "metadata": {},
   "outputs": [],
   "source": [
    "# Cargar el dataset\n",
    "file_path = 'C://Users//ricar//Downloads//Vehicles.csv' \n",
    "df = pd.read_csv(file_path)\n",
    "\n",
    "# **1. Manejo de valores nulos**\n",
    "df['model_year'].fillna(df['model_year'].median(), inplace=True)\n",
    "df['paint_color'].fillna('unknown', inplace=True)\n",
    "df['is_4wd'].fillna(0, inplace=True)\n",
    "\n",
    "# **2. Verificación y ajuste de tipos de datos**\n",
    "df['date_posted'] = pd.to_datetime(df['date_posted'])\n",
    "df['is_4wd'] = df['is_4wd'].astype(int)\n",
    "\n",
    "# **3. Crear nuevas variables**\n",
    "df['vehicle_age'] = df['date_posted'].dt.year - df['model_year']\n",
    "df['condition_simplified'] = df['condition'].map({\n",
    "    'excellent': 1,\n",
    "    'like new': 1,\n",
    "    'good': 0,\n",
    "    'fair': 0,\n",
    "    'salvage': 0\n",
    "})\n",
    "\n",
    "# **4. Detección de outliers**\n",
    "q_low = df['price'].quantile(0.01)\n",
    "q_high = df['price'].quantile(0.99)\n",
    "df = df[(df['price'] >= q_low) & (df['price'] <= q_high)]\n"
   ]
  },
  {
   "cell_type": "markdown",
   "metadata": {},
   "source": [
    "model_year: Los valores nulos se imputan con la mediana de la columna. Esto evita sesgos que podrían surgir al usar el promedio si hay valores extremos.\n",
    "paint_color: Los valores nulos se rellenan con 'unknown', indicando la falta de información.\n",
    "is_4wd: Los valores nulos se imputan con 0, asumiendo que NaN representa \"No es tracción en las cuatro ruedas\".\n",
    "\n",
    "date_posted: Se convierte a un formato de fecha (datetime) para facilitar cálculos relacionados con el tiempo.\n",
    "is_4wd: Se asegura que esta columna sea de tipo entero, lo que es importante para cálculos y modelado.\n",
    "\n",
    "vehicle_age: Se calcula la antigüedad del vehículo como la diferencia entre el año de publicación del anuncio y el año del modelo. Esta variable es crucial para entender la relación entre la edad del vehículo y su precio.\n",
    "condition_simplified: Se convierte la columna condition en una variable binaria para simplificar el análisis:\n",
    "1: Excelente/Como nuevo.\n",
    "0: Bueno/Regular.\n",
    "Los outliers en el precio se eliminan utilizando el rango entre los percentiles 1% y 99%. Esto remueve valores extremadamente altos o bajos que podrían distorsionar los análisis y modelos.\n",
    "\n",
    "Las columnas categóricas (type y paint_color) se transforman mediante one-hot encoding, creando nuevas columnas binarias para cada categoría.\n",
    "drop_first=True elimina una categoría de referencia para evitar la multicolinealidad en los modelos."
   ]
  },
  {
   "cell_type": "markdown",
   "metadata": {},
   "source": [
    "# **5. Visualizaciones relevantes**"
   ]
  },
  {
   "cell_type": "code",
   "execution_count": null,
   "metadata": {},
   "outputs": [],
   "source": [
    "\n",
    "# Configurar estilo de los gráficos\n",
    "sns.set_theme(style=\"whitegrid\")\n",
    "\n",
    "# 1. Distribución de precios\n",
    "plt.figure(figsize=(10, 6))\n",
    "sns.histplot(df['price'], kde=True, bins=30, color='blue')\n",
    "plt.title('Distribución de Precios')\n",
    "plt.xlabel('Precio')\n",
    "plt.ylabel('Frecuencia')\n",
    "plt.show()"
   ]
  },
  {
   "cell_type": "code",
   "execution_count": null,
   "metadata": {},
   "outputs": [],
   "source": [
    "# 2. Relación entre edad del vehículo y precio\n",
    "plt.figure(figsize=(10, 6))\n",
    "sns.scatterplot(data=df, x='vehicle_age', y='price', hue='condition_simplified', palette='viridis', alpha=0.6)\n",
    "plt.title('Relación entre Edad del Vehículo y Precio')\n",
    "plt.xlabel('Edad del Vehículo (Años)')\n",
    "plt.ylabel('Precio')\n",
    "plt.legend(title='Condición Simplificada', loc='upper right')\n",
    "plt.show()"
   ]
  },
  {
   "cell_type": "code",
   "execution_count": null,
   "metadata": {},
   "outputs": [],
   "source": [
    "# 3. Distribución de colores de pintura\n",
    "plt.figure(figsize=(10, 6))\n",
    "sns.countplot(data=df, y='paint_color', order=df['paint_color'].value_counts().index, palette='muted')\n",
    "plt.title('Distribución de Colores de Pintura')\n",
    "plt.xlabel('Frecuencia')\n",
    "plt.ylabel('Color de Pintura')\n",
    "plt.show()"
   ]
  },
  {
   "cell_type": "code",
   "execution_count": null,
   "metadata": {},
   "outputs": [],
   "source": [
    "# 4. Boxplot de precios por tipo de vehículo\n",
    "plt.figure(figsize=(12, 6))\n",
    "sns.boxplot(data=df, x='type', y='price', palette='coolwarm')\n",
    "plt.title('Precio por Tipo de Vehículo')\n",
    "plt.xlabel('Tipo de Vehículo')\n",
    "plt.ylabel('Precio')\n",
    "plt.xticks(rotation=45)\n",
    "plt.show()"
   ]
  },
  {
   "cell_type": "code",
   "execution_count": null,
   "metadata": {},
   "outputs": [],
   "source": [
    "# 5. Matriz de correlación para variables numéricas\n",
    "plt.figure(figsize=(10, 8))\n",
    "corr_matrix = df[['price', 'vehicle_age', 'model_year', 'cylinders', 'days_listed']].corr()\n",
    "sns.heatmap(corr_matrix, annot=True, cmap='coolwarm', fmt=\".2f\")\n",
    "plt.title('Matriz de Correlación')\n",
    "plt.show()"
   ]
  },
  {
   "cell_type": "code",
   "execution_count": null,
   "metadata": {},
   "outputs": [],
   "source": [
    "# **6. Preparar datos para modelado**\n",
    "df = pd.get_dummies(df, columns=['type', 'paint_color'], drop_first=True)"
   ]
  },
  {
   "cell_type": "code",
   "execution_count": null,
   "metadata": {},
   "outputs": [],
   "source": [
    "# Revisar datos finales\n",
    "print(df.info())\n",
    "print(df.head())\n",
    "\n",
    "# Guardar el dataset procesado\n",
    "df.to_csv('processed_data.csv', index=False)"
   ]
  }
 ],
 "metadata": {
  "kernelspec": {
   "display_name": "Python 3",
   "language": "python",
   "name": "python3"
  },
  "language_info": {
   "codemirror_mode": {
    "name": "ipython",
    "version": 3
   },
   "file_extension": ".py",
   "mimetype": "text/x-python",
   "name": "python",
   "nbconvert_exporter": "python",
   "pygments_lexer": "ipython3",
   "version": "3.12.4"
  }
 },
 "nbformat": 4,
 "nbformat_minor": 2
}
